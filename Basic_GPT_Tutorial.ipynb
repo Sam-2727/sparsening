{
 "cells": [
  {
   "cell_type": "markdown",
   "id": "0a3283d9-6aec-4e61-ad25-98dce4c0f662",
   "metadata": {},
   "source": [
    "This notebook is a collection of some things I've learned from GPT. It's a bit tricky without documentation so I hope that this can help. Contact: samchristian@mit.edu"
   ]
  },
  {
   "cell_type": "markdown",
   "id": "a8cdef6a-7bdd-4d48-9e4b-a6396c839774",
   "metadata": {},
   "source": [
    "I have tested and run this notebook on MIT supercloud. To take advantage of full memory usage, I recommend running this notebook on a full node vs. a small number of cores."
   ]
  },
  {
   "cell_type": "markdown",
   "id": "c91d29a1-8c8a-49b4-a328-aafa8ba4c88d",
   "metadata": {},
   "source": [
    "# Table of contents\n",
    "\n",
    "* [Fundamental GPT objects](#fundamental)\n",
    "* [Generating gauge fields](#gauge)\n",
    "* [Computing propagators](#props)\n",
    "* [Computing correlation functions](#corr)\n",
    "    * [Two point functions](#twopoint)\n",
    "    * [Three point functions](#threepoint)"
   ]
  },
  {
   "cell_type": "code",
   "execution_count": 1,
   "id": "e391d37a-dee2-40c6-9642-1aa8ec1f8144",
   "metadata": {
    "scrolled": true,
    "tags": []
   },
   "outputs": [
    {
     "name": "stdout",
     "output_type": "stream",
     "text": [
      "SharedMemoryNone: SharedMemoryAllocate 1073741824 GPU implementation \n",
      "0SharedMemoryNone:  SharedMemoryNone.cc acceleratorAllocDevice 1073741824bytes at 0x7f424d400000 for comms buffers \n",
      "\n",
      "__|__|__|__|__|__|__|__|__|__|__|__|__|__|__\n",
      "__|__|__|__|__|__|__|__|__|__|__|__|__|__|__\n",
      "__|_ |  |  |  |  |  |  |  |  |  |  |  | _|__\n",
      "__|_                                    _|__\n",
      "__|_   GGGG    RRRR    III    DDDD      _|__\n",
      "__|_  G        R   R    I     D   D     _|__\n",
      "__|_  G        R   R    I     D    D    _|__\n",
      "__|_  G  GG    RRRR     I     D    D    _|__\n",
      "__|_  G   G    R  R     I     D   D     _|__\n",
      "__|_   GGGG    R   R   III    DDDD      _|__\n",
      "__|_                                    _|__\n",
      "__|__|__|__|__|__|__|__|__|__|__|__|__|__|__\n",
      "__|__|__|__|__|__|__|__|__|__|__|__|__|__|__\n",
      "  |  |  |  |  |  |  |  |  |  |  |  |  |  |  \n",
      "\n",
      "\n",
      "Copyright (C) 2015 Peter Boyle, Azusa Yamaguchi, Guido Cossu, Antonin Portelli and other authors\n",
      "\n",
      "This program is free software; you can redistribute it and/or modify\n",
      "it under the terms of the GNU General Public License as published by\n",
      "the Free Software Foundation; either version 2 of the License, or\n",
      "(at your option) any later version.\n",
      "\n",
      "This program is distributed in the hope that it will be useful,\n",
      "but WITHOUT ANY WARRANTY; without even the implied warranty of\n",
      "MERCHANTABILITY or FITNESS FOR A PARTICULAR PURPOSE.  See the\n",
      "GNU General Public License for more details.\n",
      "Current Grid git commit hash=452bf2e9076e852cd8d3286863b0523f6eeb142a: (HEAD -> feature/gpt, origin/feature/gpt, origin/HEAD) clean\n",
      "\n",
      "Grid : Message : ================================================ \n",
      "Grid : Message : MPI is initialised and logging filters activated \n",
      "Grid : Message : ================================================ \n",
      "Grid : Message : Requested 1073741824 byte stencil comms buffers \n",
      "Grid : Message : MemoryManager::Init() setting up\n",
      "Grid : Message : MemoryManager::Init() cache pool for recent host   allocations: SMALL 8 LARGE 2 HUGE 0\n",
      "Grid : Message : MemoryManager::Init() cache pool for recent device allocations: SMALL 16 LARGE 8 Huge 0\n",
      "Grid : Message : MemoryManager::Init() cache pool for recent shared allocations: SMALL 16 LARGE 8 Huge 0\n",
      "Grid : Message : MemoryManager::Init() Unified memory space\n",
      "\n",
      "=============================================\n",
      "              Initialized GPT                \n",
      "     Copyright (C) 2020 Christoph Lehner     \n",
      "=============================================\n"
     ]
    }
   ],
   "source": [
    "# For installation instructions on MIT supercloud, see \n",
    "# https://gist.github.com/Sam-2727/3c283bd5d5521bde9742db198f03573e\n",
    "import gpt as g"
   ]
  },
  {
   "cell_type": "code",
   "execution_count": 2,
   "id": "8c43510b-35c6-4709-8ace-00de294af9e5",
   "metadata": {},
   "outputs": [],
   "source": [
    "# some other packages we'll need\n",
    "import numpy as np\n",
    "import sys\n",
    "import io\n",
    "from os import path\n",
    "import struct\n",
    "from typing import Dict, List, Tuple\n",
    "from xml.etree import ElementTree as ET"
   ]
  },
  {
   "cell_type": "markdown",
   "id": "38695447-b3ed-4646-8d69-e401d26a6e35",
   "metadata": {},
   "source": [
    "GPT is divided into three components: fundamental objects, QCD (i.e. classical non-neural network algorithms and toolkit to calculate other quantities), and machine learning.\n",
    "\n",
    "Here I will mainly focus on the fundamental objects and QCD side of things, but I think learning the fundamental objects side of GPT is enough to then read and understand the machine learning code directly:\n",
    "https://github.com/lehner/gpt/tree/8dc512b219149d0362d9278e68cf4ef6733f1d4e/lib/gpt/ml"
   ]
  },
  {
   "cell_type": "markdown",
   "id": "f5a0ba0e-995f-4603-87cf-f7c189d6931e",
   "metadata": {},
   "source": [
    "# Fundamental GPT objects <a name=\"fundamental\"></a>"
   ]
  },
  {
   "cell_type": "markdown",
   "id": "ce97fe66-923b-48a2-a08b-bc6a47243e22",
   "metadata": {},
   "source": [
    "There are two objects of interest in GPT: grids and lattices. \n",
    "\n",
    "Grids are named in reference to the underlying package Grid on which GPT is built. They are more fundamental and encode the type of data we are working with and also some details about how we want to work with that data (mpi layout or checkerboarding).\n",
    "\n",
    "Lattices are wrapped on top of grid objects. They store specific instances of data we are working with and function in many respects like tensors (although tensors are different gpt objects). They can be indexed in many respects like numpy arrays, although there are a few differences, in particular how data is returned."
   ]
  },
  {
   "cell_type": "markdown",
   "id": "13189862-4c85-4f46-a383-a8d93501543a",
   "metadata": {},
   "source": [
    "First let's create a grid object. The most basic instantiation of gpt grids is providing the spatial dimensions and float precision\n",
    "\n",
    "For full details of other parameters, see https://github.com/lehner/gpt/blob/8dc512b219149d0362d9278e68cf4ef6733f1d4e/lib/gpt/core/grid.py#L106"
   ]
  },
  {
   "cell_type": "code",
   "execution_count": 3,
   "id": "e1193013-1b47-4289-847d-c0c3212f6d1e",
   "metadata": {},
   "outputs": [],
   "source": [
    "# create a new grid of size x=8,y=8,z=8,t=16\n",
    "# create with double precision floats\n",
    "newGrid = g.grid([8,8,8,16],precision=g.double)"
   ]
  },
  {
   "cell_type": "code",
   "execution_count": 4,
   "id": "92af8aa5-6741-4ee5-a3b9-7e28606e1408",
   "metadata": {},
   "outputs": [
    {
     "name": "stdout",
     "output_type": "stream",
     "text": [
      "fdimensions = [8, 8, 8, 16]; mpi = [1, 1, 1, 1]; precision = double; checkerboard = full\n"
     ]
    }
   ],
   "source": [
    "print(newGrid)"
   ]
  },
  {
   "cell_type": "code",
   "execution_count": 5,
   "id": "51aa0b1b-c161-4b45-b8b8-4c142095e634",
   "metadata": {},
   "outputs": [
    {
     "data": {
      "text/plain": [
       "<gpt.core.grid.grid at 0x7f45ea0cd790>"
      ]
     },
     "execution_count": 5,
     "metadata": {},
     "output_type": "execute_result"
    }
   ],
   "source": [
    "newGrid"
   ]
  },
  {
   "cell_type": "markdown",
   "id": "80c009b7-0bdb-40fe-a490-7e8021388d77",
   "metadata": {},
   "source": [
    "Note that printing a grid in a notebook is more informative than just calling it (which is sometimes erronously thought to be equivalent to printing in Jupyter notebooks)."
   ]
  },
  {
   "cell_type": "markdown",
   "id": "7ba54f9a-e37f-472e-962e-73f9188fc217",
   "metadata": {},
   "source": [
    "Now let's create a lattice object. We need to create the lattice on top of our grid, and because lattice objects can be thought of in many respects as tensors, we need to specify what type of tensor we want. Note that because the spatial lattice sites are already specified in the grid object, we don't need to specify these when creating the lattice object."
   ]
  },
  {
   "cell_type": "code",
   "execution_count": 6,
   "id": "c70fd7c8-054e-46c4-b5cb-79a17bfd113c",
   "metadata": {},
   "outputs": [],
   "source": [
    "# here we are creating a matrix object of spin and color.\n",
    "# So at each point in spacetime we associate a (4x4x3x3)\n",
    "# tensor (or 12x12 matrix).\n",
    "newLattice = g.mspincolor(newGrid)"
   ]
  },
  {
   "cell_type": "markdown",
   "id": "3a85ce4b-3d52-4018-b6d6-465caf3afd26",
   "metadata": {},
   "source": [
    "do NOT try printing lattice objects. GPT will try printing our every entry in the lattice. Instead, if you want to see what type of lattice you are working with, just call the object as below:"
   ]
  },
  {
   "cell_type": "code",
   "execution_count": 7,
   "id": "118c60b6-714d-46a4-b4ce-700224ba6556",
   "metadata": {},
   "outputs": [
    {
     "data": {
      "text/plain": [
       "lattice(ot_matrix_spin_color(4,3),double)"
      ]
     },
     "execution_count": 7,
     "metadata": {},
     "output_type": "execute_result"
    }
   ],
   "source": [
    "newLattice"
   ]
  },
  {
   "cell_type": "code",
   "execution_count": 8,
   "id": "c0caa2ed-fb37-443d-97b9-e10ce4c82301",
   "metadata": {},
   "outputs": [
    {
     "name": "stdout",
     "output_type": "stream",
     "text": [
      "fdimensions = [8, 8, 8, 16]; mpi = [1, 1, 1, 1]; precision = double; checkerboard = full\n"
     ]
    }
   ],
   "source": [
    "print(newLattice.grid) # check that this matches the grid we inputted"
   ]
  },
  {
   "cell_type": "markdown",
   "id": "4290d90b-130a-44ef-ac10-59584f3de702",
   "metadata": {},
   "source": [
    "We can index lattice matrix sites as [x,y,z,t]"
   ]
  },
  {
   "cell_type": "code",
   "execution_count": 9,
   "id": "b95023b8-e0ec-49c5-8cee-43b546f79595",
   "metadata": {},
   "outputs": [
    {
     "data": {
      "text/plain": [
       "(4, 4, 3, 3)"
      ]
     },
     "execution_count": 9,
     "metadata": {},
     "output_type": "execute_result"
    }
   ],
   "source": [
    "newLattice[1,2,3,4].array.shape"
   ]
  },
  {
   "cell_type": "markdown",
   "id": "9d8d8aef-6452-403a-a77a-aebd7892e201",
   "metadata": {},
   "source": [
    "Once the lattice is indexed, we convert to a numpy array with the .array attribute, then find the shape of the returned numpy array. We see that the convention is [spin,spin,color,color]"
   ]
  },
  {
   "cell_type": "markdown",
   "id": "3ed25fdf-8532-47c2-8764-d2e934a51dc9",
   "metadata": {},
   "source": [
    "We can access the values at specific lattice sites by accessing the lattice object directly.\n",
    "\n",
    "Let's look at the color-color matrix associated with [x,y,z,t,s1,s2]=[1,2,3,4,3,2]"
   ]
  },
  {
   "cell_type": "code",
   "execution_count": 10,
   "id": "da97f142-be66-4722-b1c3-2320b6e07cf2",
   "metadata": {},
   "outputs": [
    {
     "data": {
      "text/plain": [
       "array([[[[[0.+0.j, 0.+0.j, 0.+0.j],\n",
       "          [0.+0.j, 0.+0.j, 0.+0.j],\n",
       "          [0.+0.j, 0.+0.j, 0.+0.j]]]]])"
      ]
     },
     "execution_count": 10,
     "metadata": {},
     "output_type": "execute_result"
    }
   ],
   "source": [
    "newLattice[1,2,3,4,3,2,:,:]"
   ]
  },
  {
   "cell_type": "markdown",
   "id": "5fc05ffc-8abd-4b4d-974c-c66b0800d312",
   "metadata": {},
   "source": [
    "One subtly is that when we access only spacetime indices [x,y,z,t], the object returned is a gpt tensor object which we need to convert to a numpy array, but when accessing also the underlying spin-color indices, the returned object is a numpy array. So newLattice[1,2,3,4,:,:,:,:] and newLattice[1,2,3,4].array return the same thing, but but the second is a bit faster."
   ]
  },
  {
   "cell_type": "markdown",
   "id": "b9a50dc2-4523-4b81-b0fb-261634446271",
   "metadata": {},
   "source": [
    "Everything is zero now in our instantiation, but we can change that by providing a numpy array.\n",
    "\n",
    "We need to make sure that our numpy array has the correct data type. Because we said that our data type was g.double, our numpy data type should be np.cdouble"
   ]
  },
  {
   "cell_type": "code",
   "execution_count": 11,
   "id": "8c28ab40-8bc7-44a9-bd83-f02becf5fe2d",
   "metadata": {},
   "outputs": [
    {
     "name": "stdout",
     "output_type": "stream",
     "text": [
      "[[0.   +0.j 0.125+0.j 0.25 +0.j]\n",
      " [0.375+0.j 0.5  +0.j 0.625+0.j]\n",
      " [0.75 +0.j 0.875+0.j 1.   +0.j]]\n"
     ]
    }
   ],
   "source": [
    "arrayInput = np.reshape(np.linspace(0,1,9,dtype=np.cdouble),(3,3))\n",
    "print(arrayInput)"
   ]
  },
  {
   "cell_type": "code",
   "execution_count": 12,
   "id": "c6710201-b85a-4313-ac26-bc6a4a3af670",
   "metadata": {},
   "outputs": [],
   "source": [
    "newLattice[1,2,3,4,3,2,:,:]=arrayInput"
   ]
  },
  {
   "cell_type": "code",
   "execution_count": 13,
   "id": "7e14038c-3a74-43df-8879-11f946b91bd1",
   "metadata": {},
   "outputs": [
    {
     "data": {
      "text/plain": [
       "array([[[[[0.   +0.j, 0.125+0.j, 0.25 +0.j],\n",
       "          [0.375+0.j, 0.5  +0.j, 0.625+0.j],\n",
       "          [0.75 +0.j, 0.875+0.j, 1.   +0.j]]]]])"
      ]
     },
     "execution_count": 13,
     "metadata": {},
     "output_type": "execute_result"
    }
   ],
   "source": [
    "newLattice[1,2,3,4,3,2,:,:]"
   ]
  },
  {
   "cell_type": "code",
   "execution_count": 14,
   "id": "c389b6e2-710d-452b-8df5-056559f551f9",
   "metadata": {},
   "outputs": [
    {
     "data": {
      "text/plain": [
       "array([[[[[0.+0.j, 0.+0.j, 0.+0.j],\n",
       "          [0.+0.j, 0.+0.j, 0.+0.j],\n",
       "          [0.+0.j, 0.+0.j, 0.+0.j]]]]])"
      ]
     },
     "execution_count": 14,
     "metadata": {},
     "output_type": "execute_result"
    }
   ],
   "source": [
    "newLattice[1,2,3,4,0,0,:,:]"
   ]
  },
  {
   "cell_type": "markdown",
   "id": "14ad647b-ea98-4882-861e-458bf1776d38",
   "metadata": {},
   "source": [
    "**Important point:** Converting between numpy arrays and gpt objects is extremely slow, so it is best to work with just gpt objects or just numpy arrays whenever possible"
   ]
  },
  {
   "cell_type": "code",
   "execution_count": 15,
   "id": "72ac7ead-5f30-441b-bee1-3aa4ea812af9",
   "metadata": {},
   "outputs": [
    {
     "name": "stdout",
     "output_type": "stream",
     "text": [
      "2.56 ms ± 256 µs per loop (mean ± std. dev. of 7 runs, 100 loops each)\n"
     ]
    }
   ],
   "source": [
    "%timeit newLattice[1,2,3,4,3,2,:,:]"
   ]
  },
  {
   "cell_type": "markdown",
   "id": "8dc9c8dd-d031-4e1b-a225-9ffbe4e6f73f",
   "metadata": {},
   "source": [
    "### Some more lattice operations (useful for energy calculations)"
   ]
  },
  {
   "cell_type": "markdown",
   "id": "1b1fde0d-7676-48e7-91b6-58204eb11887",
   "metadata": {},
   "source": [
    "Fortunately, we can perform most numpy operations on lattice objects, although things are usually a bit more brittle. Often, lattice operations are named\n",
    "\n",
    "For example, we can multiply two lattices together."
   ]
  },
  {
   "cell_type": "code",
   "execution_count": 16,
   "id": "f7d37c2b-c1f9-4cea-afa7-68a09fd51c4b",
   "metadata": {},
   "outputs": [],
   "source": [
    "# so we get a nonzero answer\n",
    "numpyInput = np.reshape(np.arange(0,144,dtype=np.cdouble),(4,4,3,3))\n",
    "newLattice[1,2,3,4,:,:,:,:]=numpyInput"
   ]
  },
  {
   "cell_type": "code",
   "execution_count": 17,
   "id": "2e42c42a-e05b-491d-93c8-48e75acfd0c8",
   "metadata": {},
   "outputs": [],
   "source": [
    "expressionToEvaluate = newLattice*newLattice\n",
    "newLatticeSquared = g(expressionToEvaluate)"
   ]
  },
  {
   "cell_type": "markdown",
   "id": "7ce4ded2-966c-495b-9419-f1347e4b97b9",
   "metadata": {},
   "source": [
    "GPT only evaluates expressions when wrapped with g(), so you can control where in your code you want the computationally intensive evaluation to occur.\n",
    "\n",
    "The expression evaluation takes place as a tensor sum at each lattice site (unlike default numpy multiplication). So \n",
    "\n",
    "$L[x,y,z,t,s_1,s_3,c_1,c_3]=\\sum_{s_2,c_2}L[x,y,z,t,s_1,s_2,c_1,c_2]L[x,y,z,t,s_2,s_3,c_2,c_3]$"
   ]
  },
  {
   "cell_type": "code",
   "execution_count": 18,
   "id": "eb51ee25-73ce-4a4b-8b90-74a63b724e17",
   "metadata": {},
   "outputs": [
    {
     "name": "stdout",
     "output_type": "stream",
     "text": [
      "(14802+0j)\n"
     ]
    }
   ],
   "source": [
    "# what we expect\n",
    "summedResult = 0\n",
    "for s in range(0,4):\n",
    "    for c in range(0,3):\n",
    "        summedResult+=numpyInput[0,s,0,c]*numpyInput[s,0,c,0]\n",
    "print(summedResult)"
   ]
  },
  {
   "cell_type": "code",
   "execution_count": 19,
   "id": "50e21079-2148-42d6-b271-320342ff0e02",
   "metadata": {},
   "outputs": [
    {
     "data": {
      "text/plain": [
       "array([[[[[14802.+0.j]]]]])"
      ]
     },
     "execution_count": 19,
     "metadata": {},
     "output_type": "execute_result"
    }
   ],
   "source": [
    "#confirming result\n",
    "newLatticeSquared[1,2,3,4,0,0,0,0]"
   ]
  },
  {
   "cell_type": "markdown",
   "id": "5dfcee5c-a4e3-497a-9440-fe8282e2a314",
   "metadata": {},
   "source": [
    "It should be mentioned briefly that vectors also exist in GPT, although I haven't used them too much"
   ]
  },
  {
   "cell_type": "code",
   "execution_count": 20,
   "id": "c4eb2101-4cbc-4591-aa16-e74a48311293",
   "metadata": {},
   "outputs": [],
   "source": [
    "newLatticeVector = g.vspincolor(newGrid)"
   ]
  },
  {
   "cell_type": "code",
   "execution_count": 21,
   "id": "2134eb19-3b60-4478-a755-7edc4ee22621",
   "metadata": {},
   "outputs": [
    {
     "data": {
      "text/plain": [
       "lattice(ot_vector_spin_color(4,3),double)"
      ]
     },
     "execution_count": 21,
     "metadata": {},
     "output_type": "execute_result"
    }
   ],
   "source": [
    "g(newLattice*newLatticeVector)"
   ]
  },
  {
   "cell_type": "markdown",
   "id": "d4b27556-3a5a-48e9-b080-300b84980269",
   "metadata": {},
   "source": [
    "We'll come back to some more fundamental GPT operations in the course of things, but first:"
   ]
  },
  {
   "cell_type": "markdown",
   "id": "a0af76c9-207c-4253-be2f-fdd685356423",
   "metadata": {},
   "source": [
    "# Generating gauge fields <a name=\"gauge\"></a>"
   ]
  },
  {
   "cell_type": "markdown",
   "id": "dc114ed5-42a6-478a-93d7-8330f7575cb0",
   "metadata": {},
   "source": [
    "We will load in gauge configurations from previous computations in chroma. We could also compute in gpt, but that would take too long for a tutorial Jupyter notebook.\n",
    "\n",
    "For a good tutorial on HMC gauge generation for pseudofermions of a two-flavor degenerate mass action, see https://homepages.uni-regensburg.de/~lec17310/teaching/wise2122/chapter13.pdf \n",
    "\n",
    "Note that in that tutorial, if wilson fermions are being used, some code should be changed. In particular, we should replace D_m with wilson_clover (as specified below in the propagator computation section), and critically, two_flavor_ratio_evenodd_schur with two_flavor_evenodd_schur and [D_m,D_pv] with D_m.\n",
    "\n",
    "Below, I simply replicate Lehner's tutorial. Note that this is not the gauge generation we used in our study, I never got non-heatbath algorithms to work with wilson_clover on gpt (some issues with gradients). Perhaps you will fare better. This will take a while to run and probably requires a lot of memory:"
   ]
  },
  {
   "cell_type": "code",
   "execution_count": null,
   "id": "0a3985b9-df85-458d-9587-5d7d427ca21d",
   "metadata": {
    "scrolled": true,
    "tags": []
   },
   "outputs": [],
   "source": [
    "L = [8,8,8, 32]\n",
    "grid = g.grid(L, g.double)\n",
    "rng = g.random(\"test\", \"vectorized_ranlux24_24_64\")\n",
    "U = [g.project(x,\"defect\") for x in g.qcd.gauge.random(grid, rng)]\n",
    "Nd = len(U)\n",
    "# conjugate momenta\n",
    "U_mom = g.group.cartesian(U)\n",
    "rng.normal_element(U_mom)\n",
    "\n",
    "# reproduce https://arxiv.org/pdf/hep-lat/0411006.pdf\n",
    "a0 = g.qcd.scalar.action.mass_term()\n",
    "a1 = g.qcd.gauge.action.improved_with_rectangle(2.13,-0.331)\n",
    "D_m = g.qcd.fermion.mobius(U, M5=1.8, mass=0.04, Ls=2, b=1., c=0.,\n",
    " boundary_phases=[1,1,1,-1])\n",
    "D_pv = g.qcd.fermion.mobius(U, M5=1.8, mass=1.0, Ls=2, b=1., c=0.,\n",
    " boundary_phases=[1,1,1,-1])\n",
    "inv = g.algorithms.inverter\n",
    "pc = g.qcd.fermion.preconditioner\n",
    "g.default.set_verbose(\"cg_convergence\", False)\n",
    "g.default.set_verbose(\"cg\", False)\n",
    "cg = inv.cg({\"eps\": 1e-8, \"maxiter\": 1000})\n",
    "a2 = g.qcd.pseudofermion.action.two_flavor_ratio_evenodd_schur([D_m, D_pv], cg)\n",
    "P = g.vspincolor(D_m.F_grid_eo)\n",
    "fields = U + [P]\n",
    "sympl = g.algorithms.integrator.symplectic\n",
    "show_force = False\n",
    "def total_force():\n",
    "    global show_force\n",
    "    gauge_force = a1.gradient(U,U)\n",
    "    fermion_force = a2.gradient(fields,U)\n",
    "    if show_force:\n",
    "        g.message(\"gauge force\", (sum(g.norm2(gauge_force)) / 4 / P.grid.gsites)**0.5)\n",
    "        g.message(\"fermion force\", (sum(g.norm2(fermion_force)) / 4 / P.grid.gsites)**0.5)\n",
    "        show_force = False\n",
    "    return [g(x+y) for x,y in zip(gauge_force,fermion_force)]\n",
    "ipU = sympl.update_p(U_mom, lambda: total_force())\n",
    "iqUM = sympl.update_q(U, lambda: a0.gradient(U_mom, U_mom))\n",
    "mdint = sympl.OMF4(5, ipU, iqUM)\n",
    "metro = g.algorithms.markov.metropolis(rng)\n",
    "def hamiltonian(draw):\n",
    "    if draw:\n",
    "        rng.normal_element(U_mom)\n",
    "        a0v = a0(U_mom)\n",
    "        a1v = a1(U)\n",
    "        a2v = a2.draw(fields, rng)\n",
    "    else:\n",
    "        a0v = a0(U_mom)\n",
    "        a1v = a1(U)\n",
    "        a2v = a2(fields)\n",
    "    return a0v + a1v + a2v, a1v + a2v\n",
    "def hmc(tau):\n",
    "    accrej = metro(U)\n",
    "    h0, s0 = hamiltonian(True)\n",
    "    mdint(tau)\n",
    "    h1, s1 = hamiltonian(False)\n",
    "    return [accrej(h1, h0), s1 - s0, h1 - h0]\n",
    "plaquette_hmc = []\n",
    "accept = 0\n",
    "total = 0\n",
    "for it in range(0,800):\n",
    "    plaq = g.qcd.gauge.plaquette(U)\n",
    "    g.save(\"iteration{}-{}\".format(0,it),U)\n",
    "    plaquette_hmc.append(plaq)\n",
    "    show_force = it % 10 == 0\n",
    "    a, dS, dH = hmc(0.6)\n",
    "    print(a)\n",
    "    accept += a\n",
    "    total += 1\n",
    "    if it % 1 == 0:\n",
    "        g.message(f\"HMC {it} has P = {plaq}, dS = {dS}, dH = {dH}, acceptance = {accept/total}\")\n",
    "    np.save(\"plaquette_hmc.npy\",plaquette_hmc)"
   ]
  },
  {
   "cell_type": "markdown",
   "id": "d8277a54-d1a1-443c-b7af-018f4171a619",
   "metadata": {},
   "source": [
    "Say instead we want to read gauge configurations from chroma. This is what we did in practice, since we reused configurations from previous computations. If you're at MIT, I can direct you to the specific configurations we used.\n",
    "\n",
    "Gauge configurations from chroma have some xml data before containing binary data. When reading them into gpt, we need to skip to the end of the xml and then load the binary data into a numpy array. We then put that numpy array into a lattice object before saving for later usage.\n",
    "\n",
    "The only thing that might need modifying is that \">c8\" command, depending on the data-precision used. See https://numpy.org/doc/stable/reference/arrays.dtypes.html"
   ]
  },
  {
   "cell_type": "code",
   "execution_count": 22,
   "id": "f3fea941-48e4-48ef-8b13-f82d0e2a2cca",
   "metadata": {},
   "outputs": [],
   "source": [
    "import numpy as np\n",
    "import sys\n",
    "import gpt as g\n",
    "import io\n",
    "from os import path\n",
    "import struct\n",
    "from typing import Dict, List, Tuple\n",
    "from xml.etree import ElementTree as ET\n",
    "def loadGauge(path,size):\n",
    "    filename = path\n",
    "    with open(filename, \"rb\") as f:\n",
    "        meta: Dict[str, Tuple[int]] = {}\n",
    "        buffer = f.read(8)\n",
    "        while buffer != b\"\" and buffer != b\"\\x0A\":\n",
    "            assert buffer.startswith(b\"\\x45\\x67\\x89\\xAB\\x00\\x01\")\n",
    "            length = (struct.unpack(\">Q\", f.read(8))[0] + 7) // 8 * 8\n",
    "            name = f.read(128).strip(b\"\\x00\").decode(\"utf-8\")\n",
    "            meta[name] = (f.tell(), length)\n",
    "            f.seek(length, io.SEEK_CUR)\n",
    "            buffer = f.read(8)\n",
    "        f.seek(meta[\"scidac-private-record-xml\"][0])\n",
    "        #previously used scidac_private_record_xml but no longer used (can remove)\n",
    "        scidac_private_record_xml = ET.ElementTree(\n",
    "            ET.fromstring(f.read(meta[\"scidac-private-record-xml\"][1]).strip(b\"\\x00\").decode(\"utf-8\"))\n",
    "        )   \n",
    "        f.seek(meta[\"ildg-binary-data\"][0])\n",
    "        ildg_binary_data = f.read(meta[\"ildg-binary-data\"][1])\n",
    "        # here, all we're doing is finding where the header ends and the binary data we want to read begins\n",
    "    Lt,Lz,Ly,Lx,Nl,Nc = size\n",
    "    u_raw2 = (\n",
    "                np.frombuffer(ildg_binary_data, \">c8\")\n",
    "                .reshape( Lt, Lz, Ly, Lx, Nl, Nc,Nc)\n",
    "                .astype(\">c8\")\n",
    "            )\n",
    "    # might need to modify \"c8\" depending on float precision used.\n",
    "    # also be careful on time, space order. Might be different depending on your usage.\n",
    "    u_raw3 = u_raw2.astype(np.complex128)\n",
    "    rng = g.random(\"test\", \"vectorized_ranlux24_24_64\")\n",
    "    grid = g.grid([size[3],size[2],size[1],size[0]],precision=g.double)\n",
    "    U = g.qcd.gauge.random(grid, rng)\n",
    "    for i in range(0,4):\n",
    "        gauge_raw = u_raw3[:,:,:,:,i,:,:]\n",
    "        U[i][:]=np.ravel(gauge_raw)\n",
    "    return U"
   ]
  },
  {
   "cell_type": "markdown",
   "id": "265bfcd0-3397-4d4d-a4b0-351dd0b48de1",
   "metadata": {},
   "source": [
    "We now load a sample gauge configuration. \n",
    "\n",
    "**Important**: the order of time, space is reversed in chroma and gpt typical conventions (although of course these are just conventions). When reading the chroma file above, time goes first, so when specifying size for above function, time goes first."
   ]
  },
  {
   "cell_type": "code",
   "execution_count": 23,
   "id": "997d3de8-dbe4-4c4c-a6ba-72327af91a15",
   "metadata": {},
   "outputs": [
    {
     "name": "stdout",
     "output_type": "stream",
     "text": [
      "GPT :      46.786982 s : Initializing gpt.random(test,vectorized_ranlux24_24_64) took 0.0546527 s\n"
     ]
    }
   ],
   "source": [
    "# change filename as needed\n",
    "i = 0 \n",
    "loadGaugeTest = loadGauge(\"sampleConfig.lime\",(48,24,24,24,4,3))\n",
    "# note that time goes first: [t,x,y,z]=[48,24,24,24]"
   ]
  },
  {
   "cell_type": "markdown",
   "id": "a7d99bf0-cda5-43cd-bcf9-e7780be02e42",
   "metadata": {},
   "source": [
    "we can save this gauge configuration in GPT:"
   ]
  },
  {
   "cell_type": "code",
   "execution_count": 24,
   "id": "d52f4738-083f-4949-bb4e-0c8a66dc3936",
   "metadata": {},
   "outputs": [
    {
     "name": "stdout",
     "output_type": "stream",
     "text": [
      "GPT :      48.492273 s : Switching view to [1,1,1,1]/Write\n",
      "GPT :      48.801433 s : Wrote 0.0889893 GB at 0.287849 GB/s (0.392015 GB/s for distribution, 41.8111 GB/s for checksum, 1.17319 GB/s for writing, 1 views per node)\n",
      "GPT :      48.876116 s : Wrote 0.0889893 GB at 1.20779 GB/s (12.8808 GB/s for distribution, 33.2308 GB/s for checksum, 1.38941 GB/s for writing, 1 views per node)\n",
      "GPT :      48.949049 s : Wrote 0.0889893 GB at 1.2384 GB/s (7.84003 GB/s for distribution, 31.3918 GB/s for checksum, 1.54436 GB/s for writing, 1 views per node)\n",
      "GPT :      49.038591 s : Wrote 0.0889893 GB at 1.00592 GB/s (5.20634 GB/s for distribution, 20.0412 GB/s for checksum, 1.33054 GB/s for writing, 1 views per node)\n",
      "GPT :      49.087976 s : Completed writing sampleConfigGPT in 0.64914 s\n"
     ]
    }
   ],
   "source": [
    "g.save(\"sampleConfigGPT\",loadGaugeTest)"
   ]
  },
  {
   "cell_type": "markdown",
   "id": "98faa34e-8faa-4ddf-b1f0-1ed3b1bfa365",
   "metadata": {},
   "source": [
    "GPT has stored the field configuration with double precision:"
   ]
  },
  {
   "cell_type": "code",
   "execution_count": 25,
   "id": "f1172916-86c2-4801-acf2-9faa403640f2",
   "metadata": {},
   "outputs": [
    {
     "name": "stdout",
     "output_type": "stream",
     "text": [
      "191116392\n",
      "382206172\n"
     ]
    }
   ],
   "source": [
    "print(path.getsize(\"sampleConfig.lime\"))\n",
    "print(path.getsize(\"sampleConfigGPT/00/0000000000.field\"))"
   ]
  },
  {
   "cell_type": "markdown",
   "id": "343ce4ab-5b2d-470b-a82e-67cd9a675940",
   "metadata": {},
   "source": [
    "# Computing Propagators <a name=\"props\"></a>"
   ]
  },
  {
   "cell_type": "markdown",
   "id": "c2d713e0-2b46-4a8b-9285-f1433db406da",
   "metadata": {},
   "source": [
    "We compute the propagator corresponding to our gauge field"
   ]
  },
  {
   "cell_type": "markdown",
   "id": "489f7ead-1234-4b54-895f-00214e8b8d19",
   "metadata": {
    "jp-MarkdownHeadingCollapsed": true,
    "tags": []
   },
   "source": [
    "We specifiy parameters for our wilson_clover action. \n",
    "\n",
    "These can be read from the chroma xml header or specified in the gauge generation to begin with"
   ]
  },
  {
   "cell_type": "code",
   "execution_count": 26,
   "id": "e1610215-761a-4517-94b3-d4f870da8618",
   "metadata": {},
   "outputs": [],
   "source": [
    "\n",
    "mass = -0.2450\n",
    "csw = 1.24930970916466\n",
    "parameters = {\n",
    "                \"mass\":mass,\n",
    "                \"boundary_phases\":[1,1,1,-1],\n",
    "                \"csw_t\":csw,\n",
    "                \"csw_r\":csw,\n",
    "                \"xi_0\":1,\n",
    "                \"nu\":1,\n",
    "                \"isAnisotropic\":False\n",
    "                }"
   ]
  },
  {
   "cell_type": "markdown",
   "id": "daeec2a4-e089-4076-b897-d2fc3c2813bb",
   "metadata": {},
   "source": [
    "The chroma header for our gauge configurations specifies that one smearing step of 0.125 is applied. We create a smearing operator sm and then apply U to it. In general this is how objects in gauge work. First we need to instantiate a specific instance of the object which we call an operator, and then apply the operator to the object of interest"
   ]
  },
  {
   "cell_type": "code",
   "execution_count": 27,
   "id": "1885f11b-79a9-48c1-aeee-cea7d38df46d",
   "metadata": {},
   "outputs": [],
   "source": [
    "\n",
    "sm = g.qcd.gauge.smear.stout(rho=0.125)\n",
    "U = sm(loadGaugeTest)"
   ]
  },
  {
   "cell_type": "markdown",
   "id": "b9acb7a0-212f-40cc-a4bd-ca4ed253ce1b",
   "metadata": {},
   "source": [
    "Now we instantiate our wilson_clover action term. If in doubt of the parameters of a function, it's best to look at the raw code. In this case:\n",
    "https://github.com/lehner/gpt/blob/8dc512b219149d0362d9278e68cf4ef6733f1d4e/lib/gpt/qcd/fermion/wilson.py#L75"
   ]
  },
  {
   "cell_type": "code",
   "execution_count": 28,
   "id": "539723e5-9d38-471e-b72f-75c5eb57f01e",
   "metadata": {},
   "outputs": [],
   "source": [
    "D_m = g.qcd.fermion.wilson_clover(U, parameters)"
   ]
  },
  {
   "cell_type": "markdown",
   "id": "594aec57-f49f-4fc5-b020-ba6b7d3e38f0",
   "metadata": {},
   "source": [
    "There are a lot of different methods for propagator inversion in gpt. In particular, some interesting things have been done with multigrid and machine learning. I just use an even odd preconditioner and the fgcr inversion algorithm (but without SAP like is done in some cases). This works well enough for large lattice spacing"
   ]
  },
  {
   "cell_type": "code",
   "execution_count": 29,
   "id": "8d7eb6c5-06d3-4ec3-8303-bd26e7ace447",
   "metadata": {},
   "outputs": [],
   "source": [
    "# defining some shortcuts\n",
    "inv = g.algorithms.inverter\n",
    "inv_pc = inv.preconditioned\n",
    "pc = g.qcd.fermion.preconditioner\n",
    "\n"
   ]
  },
  {
   "cell_type": "markdown",
   "id": "631043e2-63ab-47f8-9967-6258ee28fd91",
   "metadata": {},
   "source": [
    "First we instantiate our inverter algorithm, specifying our tolerance ($10^{-12}$), maximum number of iterations, and restart length (parameter relevant to details of inverter algorithm)"
   ]
  },
  {
   "cell_type": "code",
   "execution_count": 30,
   "id": "e7656408-7983-4bff-ae74-074fe1794f10",
   "metadata": {},
   "outputs": [],
   "source": [
    "fgcr = inv.fgcr({\"eps\": 1e-12, \"maxiter\": 1024, \"restartlen\": 8})"
   ]
  },
  {
   "cell_type": "markdown",
   "id": "6bfd8838-bb89-427a-894f-26e6d7ce7e7d",
   "metadata": {},
   "source": [
    "We can now create our inversion operator with even odd preconditioning"
   ]
  },
  {
   "cell_type": "code",
   "execution_count": 31,
   "id": "a0fdf39a-7985-466a-b3d7-d3cc1baa9c14",
   "metadata": {},
   "outputs": [],
   "source": [
    "inv = inv_pc(pc.eo2(), fgcr)\n",
    "inv_w = inv(D_m)"
   ]
  },
  {
   "cell_type": "markdown",
   "id": "086128ea-f7db-4fc6-af0e-6c2533a2bd1f",
   "metadata": {},
   "source": [
    "We take the grid corresponding to our gauge field and create a lattice object that will store our propagator. We then add a point source at (x,y,z,t)=(0,0,0,0). Alternatively we could've created a wall source or smeared.\n",
    "\n",
    "Search gpt code for \"gpt.create\" for other options (e.g. g.create.wall)."
   ]
  },
  {
   "cell_type": "code",
   "execution_count": 32,
   "id": "763f66d0-67b2-4f43-9d02-0ac5e538eb11",
   "metadata": {},
   "outputs": [
    {
     "name": "stdout",
     "output_type": "stream",
     "text": [
      "GPT :      68.889457 s : fgcr: converged in 247 iterations;  computed squared residual 2.306757e-25 / 2.785760e-25;  true squared residual 2.306756e-25 / 2.785760e-25\n",
      "GPT :      77.679402 s : fgcr: converged in 254 iterations;  computed squared residual 2.783958e-25 / 2.920680e-25;  true squared residual 2.783959e-25 / 2.920680e-25\n",
      "GPT :      86.201174 s : fgcr: converged in 251 iterations;  computed squared residual 2.815687e-25 / 3.201667e-25;  true squared residual 2.815687e-25 / 3.201667e-25\n",
      "GPT :      94.689939 s : fgcr: converged in 255 iterations;  computed squared residual 3.174377e-25 / 3.292507e-25;  true squared residual 3.174379e-25 / 3.292507e-25\n",
      "GPT :     102.130140 s : fgcr: converged in 246 iterations;  computed squared residual 2.659074e-25 / 2.905488e-25;  true squared residual 2.659076e-25 / 2.905488e-25\n",
      "GPT :     110.787401 s : fgcr: converged in 251 iterations;  computed squared residual 2.694570e-25 / 2.788212e-25;  true squared residual 2.694570e-25 / 2.788212e-25\n",
      "GPT :     118.352821 s : fgcr: converged in 257 iterations;  computed squared residual 2.560810e-25 / 3.111504e-25;  true squared residual 2.560810e-25 / 3.111504e-25\n",
      "GPT :     125.835123 s : fgcr: converged in 250 iterations;  computed squared residual 3.000779e-25 / 3.116262e-25;  true squared residual 3.000780e-25 / 3.116262e-25\n",
      "GPT :     133.070320 s : fgcr: converged in 252 iterations;  computed squared residual 2.636683e-25 / 2.913846e-25;  true squared residual 2.636686e-25 / 2.913846e-25\n",
      "GPT :     140.200207 s : fgcr: converged in 252 iterations;  computed squared residual 3.016340e-25 / 3.227584e-25;  true squared residual 3.016341e-25 / 3.227584e-25\n",
      "GPT :     147.519903 s : fgcr: converged in 255 iterations;  computed squared residual 2.940819e-25 / 3.069330e-25;  true squared residual 2.940818e-25 / 3.069330e-25\n",
      "GPT :     154.778161 s : fgcr: converged in 254 iterations;  computed squared residual 2.584389e-25 / 3.090635e-25;  true squared residual 2.584387e-25 / 3.090635e-25\n"
     ]
    }
   ],
   "source": [
    "grid = U[0].grid\n",
    "src = g.mspincolor(grid)\n",
    "src[:]=0\n",
    "g.create.point(src, (0,0,0,0))\n",
    "prop = g(inv_w * src)"
   ]
  },
  {
   "cell_type": "code",
   "execution_count": 33,
   "id": "ac922842-9f0e-4dd9-b986-74c93f7f67f2",
   "metadata": {},
   "outputs": [
    {
     "name": "stdout",
     "output_type": "stream",
     "text": [
      "GPT :     156.092633 s : Switching view to [1,1,1,1]/Write\n",
      "GPT :     160.159750 s : Wrote 1.42383 GB at 0.350083 GB/s (0.480965 GB/s for distribution, 66.9683 GB/s for checksum, 1.31586 GB/s for writing, 1 views per node)\n",
      "GPT :     160.219811 s : Completed writing sampleProp0 in 4.23848 s\n"
     ]
    }
   ],
   "source": [
    "g.save(\"sampleProp{}\".format(0),prop)"
   ]
  },
  {
   "cell_type": "markdown",
   "id": "ce77614a-4786-4c7c-b318-8ee664f0e9de",
   "metadata": {},
   "source": [
    "# Correlation functions <a name=\"corr\"></a>"
   ]
  },
  {
   "cell_type": "code",
   "execution_count": 34,
   "id": "06c86266-71e2-491d-a887-fb30679f762b",
   "metadata": {},
   "outputs": [],
   "source": [
    "# First load matplotlib which we'll need in a bit\n",
    "import matplotlib.pyplot as plt\n",
    "import matplotlib as mpl\n",
    "params = {\n",
    "    \"font.size\": 18,\n",
    "    \"legend.fontsize\": 18,\n",
    "    \"legend.frameon\": False,\n",
    "    \"axes.labelsize\": 18,\n",
    "    \"axes.titlesize\": 18,\n",
    "    \"xtick.labelsize\": 18,\n",
    "    \"ytick.labelsize\": 18,\n",
    "    \"figure.figsize\": (8,6),\n",
    "    'legend.fontsize': '18',\n",
    "    \"xtick.top\": False,\n",
    "    \"axes.unicode_minus\": False,\n",
    "    \"ytick.right\": True,\n",
    "    \"xtick.bottom\": True,\n",
    "    \"ytick.left\": True,\n",
    "    \"xtick.major.pad\": 8,\n",
    "    \"xtick.major.size\": 8,\n",
    "    \"xtick.minor.size\": 4,\n",
    "    \"ytick.major.size\": 8,\n",
    "    \"ytick.minor.size\": 4,\n",
    "    \"xtick.direction\": \"out\",\n",
    "    \"ytick.direction\": \"out\",\n",
    "    \"axes.linewidth\": 1.5,\n",
    "    \"text.usetex\": False,\n",
    "    \"font.family\": \"serif\",\n",
    "    \"font.serif\": \"cmr10\",\n",
    "    \"mathtext.fontset\": \"cm\",\n",
    "    'figure.dpi': '100',\n",
    "    \"axes.formatter.use_mathtext\": True,  # needed when using cm=cmr10 for normal text\n",
    "}\n",
    "mpl.rcParams.update(params)\n",
    "colors = [\"#f3dc9a\",\"#da9e6a\",\"#d4d9ae\",\"#d9564a\"]"
   ]
  },
  {
   "cell_type": "markdown",
   "id": "c527511f-7ea6-42ce-9a48-eaf2e210499e",
   "metadata": {},
   "source": [
    "## Two point functions <a name=\"twopoint\"></a>"
   ]
  },
  {
   "cell_type": "markdown",
   "id": "f396e757-caf5-4413-aa57-f55503c635a2",
   "metadata": {},
   "source": [
    " Let's see what we can do with this one propagator. We'll use the pion as an example, since there is limited noise. First, zero momentum:"
   ]
  },
  {
   "cell_type": "code",
   "execution_count": 35,
   "id": "fb57512e-c898-4139-81a1-24f7d3b734c7",
   "metadata": {},
   "outputs": [],
   "source": [
    "# First, take the trace of the absolute value of the propagator squared\n",
    "pionCorr = g.trace(g.adj(prop)*prop)"
   ]
  },
  {
   "cell_type": "markdown",
   "id": "4abb9f8a-abf6-47c8-a9c2-5827f2733544",
   "metadata": {},
   "source": [
    "slice(object,i) sums over all variables except for the ith dimension of object (zero-indexed as usual). Here, i=3 is time. That is, we're momentum projecting to zero momentum."
   ]
  },
  {
   "cell_type": "code",
   "execution_count": 36,
   "id": "cf666660-69fe-4e71-b4d2-221edc55dfa0",
   "metadata": {},
   "outputs": [],
   "source": [
    "pionCorrProj = np.array(g.slice(pionCorr,3))"
   ]
  },
  {
   "cell_type": "markdown",
   "id": "772e9701-cb55-4dc1-8002-5deedc29366d",
   "metadata": {},
   "source": [
    "Hopefully, our correlators's imaginary part is small, since we expect the object to be real up to noise"
   ]
  },
  {
   "cell_type": "code",
   "execution_count": 37,
   "id": "f0d3d394-4d9d-405c-afd8-b458d4de47f8",
   "metadata": {},
   "outputs": [
    {
     "name": "stdout",
     "output_type": "stream",
     "text": [
      "1.8307364175980299\n",
      "-3.3763755283360416e-19\n"
     ]
    }
   ],
   "source": [
    "print(np.sum(pionCorrProj.real))\n",
    "print(np.sum(pionCorrProj.imag))\n",
    "# Yay!"
   ]
  },
  {
   "cell_type": "code",
   "execution_count": 38,
   "id": "983b5c35-0395-44e5-b944-5ab1d1d81829",
   "metadata": {},
   "outputs": [
    {
     "data": {
      "text/plain": [
       "<matplotlib.collections.PathCollection at 0x7f41d5de6520>"
      ]
     },
     "execution_count": 38,
     "metadata": {},
     "output_type": "execute_result"
    },
    {
     "data": {
      "image/png": "[encoded data removed]",
      "text/plain": [
       "<Figure size 800x600 with 1 Axes>"
      ]
     },
     "metadata": {},
     "output_type": "display_data"
    }
   ],
   "source": [
    "plt.scatter(np.arange(0,len(pionCorrProj)),np.log10(pionCorrProj.real))"
   ]
  },
  {
   "cell_type": "markdown",
   "id": "891bed7d-c398-48bb-860c-d67c6e1fe755",
   "metadata": {},
   "source": [
    "Now we can compute the effective mass of a single gauge configuration:"
   ]
  },
  {
   "cell_type": "code",
   "execution_count": 39,
   "id": "807c4ed9-0f1c-4657-a4cf-cfb1db0c930f",
   "metadata": {},
   "outputs": [],
   "source": [
    "# the more basic and more advanced forms for the effective mass\n",
    "def calcEnergyIndividual(corr):\n",
    "    E = []\n",
    "    for i in range(0,len(corr)-1):\n",
    "        E.append(np.log(corr[i]/corr[i+1]))\n",
    "    return np.array(E)\n",
    "def emMeson(corr):\n",
    "    corrMean = corr\n",
    "    E = []\n",
    "    for i in range(1,len(corrMean)-1):\n",
    "        E.append(np.arccosh((corrMean[i-1]+corrMean[i+1])/(2*corrMean[i])))\n",
    "    return np.array(E)\n",
    "def emBaryon(corr):\n",
    "    corrMean = corr\n",
    "    E = []\n",
    "    for i in range(1,len(corrMean)-1):\n",
    "        E.append(np.arcsinh((corrMean[i-1]-corrMean[i+1])/(2*corrMean[i])))\n",
    "    return np.array(E)"
   ]
  },
  {
   "cell_type": "code",
   "execution_count": 40,
   "id": "e84be7cb-e32e-461b-9f67-39cf6f8cd064",
   "metadata": {},
   "outputs": [
    {
     "name": "stderr",
     "output_type": "stream",
     "text": [
      "/state/partition1/llgrid/pkg/anaconda/anaconda3-2023a/lib/python3.9/site-packages/matplotlib/collections.py:193: ComplexWarning: Casting complex values to real discards the imaginary part\n",
      "  offsets = np.asanyarray(offsets, float)\n"
     ]
    },
    {
     "data": {
      "text/plain": [
       "<matplotlib.collections.PathCollection at 0x7f41d5d32fa0>"
      ]
     },
     "execution_count": 40,
     "metadata": {},
     "output_type": "execute_result"
    },
    {
     "data": {
      "image/png": "[encoded data removed]",
      "text/plain": [
       "<Figure size 800x600 with 1 Axes>"
      ]
     },
     "metadata": {},
     "output_type": "display_data"
    }
   ],
   "source": [
    "effectiveMassPion = calcEnergyIndividual(pionCorrProj)\n",
    "# if plotting emMeson, need to do np.arange(0,len(pionCorrProj)-2\n",
    "plt.scatter(np.arange(0,len(pionCorrProj)-1),effectiveMassPion)"
   ]
  },
  {
   "cell_type": "markdown",
   "id": "604bfa19-dd48-4874-8c10-78c73b784e7a",
   "metadata": {},
   "source": [
    "For nonzero momentum, we weight our slice() summation by an operator P representing $e^{i\\vec{x}\\cdot\\vec{p}}$"
   ]
  },
  {
   "cell_type": "code",
   "execution_count": 41,
   "id": "88eea50a-346e-45b9-99d5-831f3bff127e",
   "metadata": {},
   "outputs": [],
   "source": [
    "momentum = 1\n",
    "L = prop.grid.fdimensions[0]\n",
    "p = momentum*2.0 * np.pi * np.array([1, 0, 0, 0]) / L\n",
    "P = g.exp_ixp(p)\n",
    "PionCorrMomentum1 = g.slice(P*g.trace(g.adj(prop)*prop),3)"
   ]
  },
  {
   "cell_type": "code",
   "execution_count": 42,
   "id": "330454d6-0702-4cb8-a47d-907b192fdade",
   "metadata": {},
   "outputs": [
    {
     "data": {
      "text/plain": [
       "<matplotlib.collections.PathCollection at 0x7f41d5b38190>"
      ]
     },
     "execution_count": 42,
     "metadata": {},
     "output_type": "execute_result"
    },
    {
     "data": {
      "image/png": "[encoded data removed]",
      "text/plain": [
       "<Figure size 800x600 with 1 Axes>"
      ]
     },
     "metadata": {},
     "output_type": "display_data"
    }
   ],
   "source": [
    "effectiveMassPion = emMeson(pionCorrProj)\n",
    "plt.scatter(np.arange(0,len(pionCorrProj)-2),effectiveMassPion)"
   ]
  },
  {
   "cell_type": "markdown",
   "id": "c3c1e073-f1e8-4d99-bd00-9f495c9fd6d7",
   "metadata": {},
   "source": [
    "For the proton correlation function (and other baryons in general), there is a helpful $\\verb|diquark|$ function to make things a bit easier.\n",
    "\n",
    "Explicitly, $\\verb|diquark|(S_1,S_2)_{a,a',\\alpha,\\beta}=\\epsilon_{abc}\\epsilon_{a'b'c'}S_{1,b,b',\\alpha,\\alpha'}S_{2,c,c',\\beta,\\alpha'}$.\n",
    "\n",
    "Then, after working out all the relevant Wick contractions, the proton correlation can be written as, with $\\text{Tr}_c$ representing a color trace, $\\text{Tr}_s$ representing a spin trace, the charge conjugation matrix in our basis is $C_{\\alpha\\beta}=i\\gamma_{1,\\alpha,\\alpha'}\\gamma_{3,\\alpha',\\beta}$ (working in a basis where the spatial gammas are 0,1,2 and time gamma is 3), and $S$ is the propagator, with tensor multiplication implicit in the argument of diquark:\n",
    "\n",
    "$\\text{Tr}_c[\\text{Tr}_s(\\verb|diquark|(SC\\gamma_5,C\\gamma_5S))*\\text{Tr}_s(S\\frac{1}{2}(1+\\gamma_3))]+\\text{Tr}[\\verb|diquark|(SC\\gamma_5,C\\gamma_5S)S\\frac{1}{2}(1+\\gamma_3)]$"
   ]
  },
  {
   "cell_type": "code",
   "execution_count": 43,
   "id": "9f012711-6a33-46d3-93ca-2ef97b3b9053",
   "metadata": {},
   "outputs": [],
   "source": [
    "def protonCorrelatorTwoPoint(prop,P):\n",
    "    C = 1j*g.gamma[1].tensor()*g.gamma[3].tensor()\n",
    "    Gamma = C*g.gamma[5].tensor()\n",
    "\n",
    "    Pp = (g.gamma[\"I\"].tensor() + g.gamma[3].tensor())*0.5\n",
    "\n",
    "    q1p = g(prop * Pp)\n",
    "    dq = g.qcd.baryon.diquark(g(prop*Gamma),g(Gamma*prop))\n",
    "    results1 = g.slice(P*g.color_trace(g.spin_trace(dq) * g.spin_trace(q1p) + g.spin_trace(dq*q1p)),3)\n",
    "    return results1"
   ]
  },
  {
   "cell_type": "code",
   "execution_count": 44,
   "id": "4ee7b9f3-4c2f-417a-b68c-6a1b671b8ff8",
   "metadata": {},
   "outputs": [
    {
     "data": {
      "text/plain": [
       "<matplotlib.collections.PathCollection at 0x7f41d5af44f0>"
      ]
     },
     "execution_count": 44,
     "metadata": {},
     "output_type": "execute_result"
    },
    {
     "data": {
      "image/png": "[encoded data removed]",
      "text/plain": [
       "<Figure size 800x600 with 1 Axes>"
      ]
     },
     "metadata": {},
     "output_type": "display_data"
    }
   ],
   "source": [
    "# Now plot\n",
    "momentum = 0\n",
    "p = momentum*2.0 * np.pi * np.array([1, 0, 0, 0]) / L\n",
    "P = g.exp_ixp(p)\n",
    "protonTwoPoint = np.array(protonCorrelatorTwoPoint(prop,P))\n",
    "effectiveMassProton = emBaryon(protonTwoPoint)\n",
    "plt.scatter(np.arange(0,len(protonTwoPoint)-2),effectiveMassProton)"
   ]
  },
  {
   "cell_type": "markdown",
   "id": "53d252aa-09cb-47e7-bfe2-4e7e9f3be7d4",
   "metadata": {},
   "source": [
    "## Three point functions of operator insertion <a name=\"threepoint\"></a>"
   ]
  },
  {
   "cell_type": "markdown",
   "id": "fa4a901e-305a-4255-b9f9-0971ee888c33",
   "metadata": {},
   "source": [
    "In our paper, we compute as a function of sink time. We therefore compute the sequential propagator required to compute the three point function at a fixed source momentum (either $0,1$ or $2$). For our operator insertion, we use $\\gamma_3=\\gamma_t$.\n",
    "\n",
    "Explicitly, in this example, we compute $\\text{Tr} [\\pi^\\dagger(\\vec{0},t)V_3\\pi(\\vec{x}=0,t)]$ which projects for sufficiently separated $T/2\\gg t\\gg\\tau$\n",
    "\n",
    "We then invert the sequential propagator using the same propagator inversion function defined previously."
   ]
  },
  {
   "cell_type": "code",
   "execution_count": 45,
   "id": "75e9511d-f2ce-4db7-a2c1-04654ac26c21",
   "metadata": {},
   "outputs": [],
   "source": [
    "def sequentialProp(momentum,L,U,prop,t_op):\n",
    "    grid = U[0].grid\n",
    "    src_seq = g.mspincolor(grid)\n",
    "    src_seq[:] = 0\n",
    "    p = momentum*2.0 * np.pi * np.array([1, 0, 0, 0]) / L\n",
    "    P = g.exp_ixp(p)\n",
    "    src_seq[:, :, :, t_op] = prop[:, :, :, t_op]\n",
    "    src_seq@=P*g.gamma[3]*src_seq\n",
    "    prop_seq = propGeneration(U,src_seq)[0]\n",
    "    return prop_seq"
   ]
  },
  {
   "cell_type": "code",
   "execution_count": 46,
   "id": "616e57ac-3cfd-4401-a280-21278b32dc13",
   "metadata": {},
   "outputs": [],
   "source": [
    "# Just collecting everything we did previously\n",
    "def propGeneration(gauge,source):\n",
    "    mass = -0.2450\n",
    "    csw = 1.24930970916466\n",
    "    parameters = {\n",
    "                    \"mass\":mass,\n",
    "                    \"boundary_phases\":[1,1,1,-1],\n",
    "                    \"csw_t\":csw,\n",
    "                    \"csw_r\":csw,\n",
    "                    \"xi_0\":1,\n",
    "                    \"nu\":1,\n",
    "                    \"isAnisotropic\":False\n",
    "                    }\n",
    "    U = gauge\n",
    "    # commenting out below because we've already smeared U!\n",
    "    #sm = g.qcd.gauge.smear.stout(rho=0.125)\n",
    "    #U2 = sm(U)\n",
    "    U2 = U\n",
    "    D_m = g.qcd.fermion.wilson_clover(U2, parameters)\n",
    "    inv = g.algorithms.inverter\n",
    "    inv_pc = inv.preconditioned\n",
    "    pc = g.qcd.fermion.preconditioner\n",
    "    print(\"creating inverter\")\n",
    "    fgcr = inv.fgcr({\"eps\": 1e-12, \"maxiter\": 1024, \"restartlen\": 8})\n",
    "    inv2 = inv_pc(pc.eo2(), fgcr)\n",
    "    inv2_w = inv2(D_m)\n",
    "    grid = U2[0].grid\n",
    "    src = source\n",
    "    t0 = 0\n",
    "    print(\"starting inverter\")\n",
    "   # g.create.point(src, (0,0,0,0))\n",
    "    prop_xy = g(inv2_w * src)\n",
    "    return [prop_xy,U,t0]"
   ]
  },
  {
   "cell_type": "code",
   "execution_count": 47,
   "id": "45d59f79-0d95-4d06-950e-7c28109327b1",
   "metadata": {},
   "outputs": [
    {
     "name": "stdout",
     "output_type": "stream",
     "text": [
      "creating inverter\n",
      "starting inverter\n",
      "GPT :     183.181989 s : fgcr: converged in 260 iterations;  computed squared residual 1.989567e-29 / 2.192552e-29;  true squared residual 1.989569e-29 / 2.192552e-29\n",
      "GPT :     190.607297 s : fgcr: converged in 258 iterations;  computed squared residual 7.275473e-29 / 7.686733e-29;  true squared residual 7.275470e-29 / 7.686733e-29\n",
      "GPT :     198.289939 s : fgcr: converged in 261 iterations;  computed squared residual 3.760520e-29 / 4.406023e-29;  true squared residual 3.760521e-29 / 4.406023e-29\n",
      "GPT :     205.707013 s : fgcr: converged in 260 iterations;  computed squared residual 1.143196e-28 / 1.230439e-28;  true squared residual 1.143196e-28 / 1.230439e-28\n",
      "GPT :     213.323030 s : fgcr: converged in 258 iterations;  computed squared residual 2.677531e-29 / 2.686429e-29;  true squared residual 2.677533e-29 / 2.686429e-29\n",
      "GPT :     220.680992 s : fgcr: converged in 258 iterations;  computed squared residual 4.994183e-29 / 5.340544e-29;  true squared residual 4.994183e-29 / 5.340544e-29\n",
      "GPT :     228.399968 s : fgcr: converged in 260 iterations;  computed squared residual 2.534384e-28 / 2.540820e-28;  true squared residual 2.534386e-28 / 2.540820e-28\n",
      "GPT :     237.377418 s : fgcr: converged in 260 iterations;  computed squared residual 5.113547e-29 / 5.713122e-29;  true squared residual 5.113551e-29 / 5.713122e-29\n",
      "GPT :     244.958502 s : fgcr: converged in 261 iterations;  computed squared residual 7.895550e-29 / 8.943020e-29;  true squared residual 7.895547e-29 / 8.943020e-29\n",
      "GPT :     252.361537 s : fgcr: converged in 261 iterations;  computed squared residual 7.031575e-29 / 7.508418e-29;  true squared residual 7.031579e-29 / 7.508418e-29\n",
      "GPT :     259.627945 s : fgcr: converged in 260 iterations;  computed squared residual 1.512996e-28 / 1.649095e-28;  true squared residual 1.512998e-28 / 1.649095e-28\n",
      "GPT :     266.927567 s : fgcr: converged in 259 iterations;  computed squared residual 1.243729e-28 / 1.520911e-28;  true squared residual 1.243728e-28 / 1.520911e-28\n"
     ]
    }
   ],
   "source": [
    "#invert with momentum zero\n",
    "prop_seq = sequentialProp(0,L,U,prop,8)"
   ]
  },
  {
   "cell_type": "code",
   "execution_count": 48,
   "id": "2e85bd8f-ed97-46e4-a263-0fe8c6b5238f",
   "metadata": {},
   "outputs": [
    {
     "name": "stdout",
     "output_type": "stream",
     "text": [
      "GPT :     268.253136 s : Switching view to [1,1,1,1]/Write\n",
      "GPT :     272.456105 s : Wrote 1.42383 GB at 0.338767 GB/s (0.490973 GB/s for distribution, 26.1438 GB/s for checksum, 1.15248 GB/s for writing, 1 views per node)\n",
      "GPT :     272.693320 s : Completed writing prop_seqExample0 in 4.60444 s\n"
     ]
    }
   ],
   "source": [
    "g.save(\"prop_seqExample{}\".format(0),prop_seq)"
   ]
  },
  {
   "cell_type": "code",
   "execution_count": 49,
   "id": "7ff5880d-909f-4246-8e3f-b824c63d7929",
   "metadata": {},
   "outputs": [],
   "source": [
    "pionThreePoint = np.array(g.slice(g.trace(g.adj(prop)*prop_seq),3))"
   ]
  },
  {
   "cell_type": "code",
   "execution_count": 50,
   "id": "b59e1ea0-add5-45eb-801d-48c7528ca67e",
   "metadata": {},
   "outputs": [
    {
     "data": {
      "text/plain": [
       "<matplotlib.collections.PathCollection at 0x7f41d59b3cd0>"
      ]
     },
     "execution_count": 50,
     "metadata": {},
     "output_type": "execute_result"
    },
    {
     "data": {
      "image/png": "[encoded data removed]",
      "text/plain": [
       "<Figure size 800x600 with 1 Axes>"
      ]
     },
     "metadata": {},
     "output_type": "display_data"
    }
   ],
   "source": [
    "# Just as expected!\n",
    "plt.scatter(np.arange(0,48),pionThreePoint/pionCorrProj)"
   ]
  },
  {
   "cell_type": "markdown",
   "id": "15ac52ac-8171-4f11-96f0-e7380a6586b5",
   "metadata": {},
   "source": [
    "Of course, in our actual simulations, we use 100 gauge configurations, and then compute error bars using bootstrap sampling"
   ]
  }
 ],
 "metadata": {
  "kernelspec": {
   "display_name": "Python 3 (ipykernel)",
   "language": "python",
   "name": "python3"
  },
  "language_info": {
   "codemirror_mode": {
    "name": "ipython",
    "version": 3
   },
   "file_extension": ".py",
   "mimetype": "text/x-python",
   "name": "python",
   "nbconvert_exporter": "python",
   "pygments_lexer": "ipython3",
   "version": "3.9.15"
  }
 },
 "nbformat": 4,
 "nbformat_minor": 5
}
