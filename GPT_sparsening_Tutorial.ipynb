{
 "cells": [
  {
   "cell_type": "code",
   "execution_count": 1,
   "id": "44833fe7-832b-441d-af07-65bf2ccd0653",
   "metadata": {},
   "outputs": [
    {
     "name": "stdout",
     "output_type": "stream",
     "text": [
      "SharedMemoryNone: SharedMemoryAllocate 1073741824 GPU implementation \n",
      "0SharedMemoryNone:  SharedMemoryNone.cc acceleratorAllocDevice 1073741824bytes at 0x7f4c54400000 for comms buffers \n",
      "\n",
      "__|__|__|__|__|__|__|__|__|__|__|__|__|__|__\n",
      "__|__|__|__|__|__|__|__|__|__|__|__|__|__|__\n",
      "__|_ |  |  |  |  |  |  |  |  |  |  |  | _|__\n",
      "__|_                                    _|__\n",
      "__|_   GGGG    RRRR    III    DDDD      _|__\n",
      "__|_  G        R   R    I     D   D     _|__\n",
      "__|_  G        R   R    I     D    D    _|__\n",
      "__|_  G  GG    RRRR     I     D    D    _|__\n",
      "__|_  G   G    R  R     I     D   D     _|__\n",
      "__|_   GGGG    R   R   III    DDDD      _|__\n",
      "__|_                                    _|__\n",
      "__|__|__|__|__|__|__|__|__|__|__|__|__|__|__\n",
      "__|__|__|__|__|__|__|__|__|__|__|__|__|__|__\n",
      "  |  |  |  |  |  |  |  |  |  |  |  |  |  |  \n",
      "\n",
      "\n",
      "Copyright (C) 2015 Peter Boyle, Azusa Yamaguchi, Guido Cossu, Antonin Portelli and other authors\n",
      "\n",
      "This program is free software; you can redistribute it and/or modify\n",
      "it under the terms of the GNU General Public License as published by\n",
      "the Free Software Foundation; either version 2 of the License, or\n",
      "(at your option) any later version.\n",
      "\n",
      "This program is distributed in the hope that it will be useful,\n",
      "but WITHOUT ANY WARRANTY; without even the implied warranty of\n",
      "MERCHANTABILITY or FITNESS FOR A PARTICULAR PURPOSE.  See the\n",
      "GNU General Public License for more details.\n",
      "Current Grid git commit hash=452bf2e9076e852cd8d3286863b0523f6eeb142a: (HEAD -> feature/gpt, origin/feature/gpt, origin/HEAD) clean\n",
      "\n",
      "Grid : Message : ================================================ \n",
      "Grid : Message : MPI is initialised and logging filters activated \n",
      "Grid : Message : ================================================ \n",
      "Grid : Message : Requested 1073741824 byte stencil comms buffers \n",
      "Grid : Message : MemoryManager::Init() setting up\n",
      "Grid : Message : MemoryManager::Init() cache pool for recent host   allocations: SMALL 8 LARGE 2 HUGE 0\n",
      "Grid : Message : MemoryManager::Init() cache pool for recent device allocations: SMALL 16 LARGE 8 Huge 0\n",
      "Grid : Message : MemoryManager::Init() cache pool for recent shared allocations: SMALL 16 LARGE 8 Huge 0\n",
      "Grid : Message : MemoryManager::Init() Unified memory space\n",
      "\n",
      "=============================================\n",
      "              Initialized GPT                \n",
      "     Copyright (C) 2020 Christoph Lehner     \n",
      "=============================================\n"
     ]
    }
   ],
   "source": [
    "# For installation instructions on MIT supercloud, see \n",
    "# https://gist.github.com/Sam-2727/3c283bd5d5521bde9742db198f03573e\n",
    "import gpt as g\n",
    "import numpy as np\n",
    "import sys\n",
    "import io\n",
    "from os import path\n",
    "import struct\n",
    "from typing import Dict, List, Tuple\n",
    "from xml.etree import ElementTree as ET\n",
    "# First load matplotlib which we'll need in a bit\n",
    "import matplotlib.pyplot as plt\n",
    "import matplotlib as mpl\n",
    "params = {\n",
    "    \"font.size\": 18,\n",
    "    \"legend.fontsize\": 18,\n",
    "    \"legend.frameon\": False,\n",
    "    \"axes.labelsize\": 18,\n",
    "    \"axes.titlesize\": 18,\n",
    "    \"xtick.labelsize\": 18,\n",
    "    \"ytick.labelsize\": 18,\n",
    "    \"figure.figsize\": (8,6),\n",
    "    'legend.fontsize': '18',\n",
    "    \"xtick.top\": False,\n",
    "    \"axes.unicode_minus\": False,\n",
    "    \"ytick.right\": True,\n",
    "    \"xtick.bottom\": True,\n",
    "    \"ytick.left\": True,\n",
    "    \"xtick.major.pad\": 8,\n",
    "    \"xtick.major.size\": 8,\n",
    "    \"xtick.minor.size\": 4,\n",
    "    \"ytick.major.size\": 8,\n",
    "    \"ytick.minor.size\": 4,\n",
    "    \"xtick.direction\": \"out\",\n",
    "    \"ytick.direction\": \"out\",\n",
    "    \"axes.linewidth\": 1.5,\n",
    "    \"text.usetex\": False,\n",
    "    \"font.family\": \"serif\",\n",
    "    \"font.serif\": \"cmr10\",\n",
    "    \"mathtext.fontset\": \"cm\",\n",
    "    'figure.dpi': '100',\n",
    "    \"axes.formatter.use_mathtext\": True,  # needed when using cm=cmr10 for normal text\n",
    "}\n",
    "mpl.rcParams.update(params)\n",
    "colors = [\"#f3dc9a\",\"#da9e6a\",\"#d4d9ae\",\"#d9564a\"]"
   ]
  },
  {
   "cell_type": "code",
   "execution_count": 2,
   "id": "7690583c-a28b-4559-bcd4-0dd3251df045",
   "metadata": {},
   "outputs": [
    {
     "name": "stdout",
     "output_type": "stream",
     "text": [
      "GPT :       4.792049 s : Reading sampleProp0\n",
      "GPT :       4.965483 s : Switching view to [1,1,1,1]/Read\n",
      "GPT :      19.500037 s : Read 1.42383 GB at 0.0979612 GB/s (0.413251 GB/s for distribution, 0.128398 GB/s for reading + checksum, 20.2549 GB/s for checksum, 1 views per node)\n",
      "GPT :      19.505468 s : Completed reading sampleProp0 in 14.7155 s\n",
      "GPT :      19.589827 s : Reading sampleConfigGPT\n",
      "GPT :      19.690154 s : Switching view to [1,1,1,1]/Read\n",
      "GPT :      21.212150 s : Read 0.0889893 GB at 0.0584688 GB/s (0.475479 GB/s for distribution, 0.0666672 GB/s for reading + checksum, 19.4714 GB/s for checksum, 1 views per node)\n",
      "GPT :      22.097729 s : Read 0.0889893 GB at 0.100645 GB/s (27.3362 GB/s for distribution, 0.101017 GB/s for reading + checksum, 20.5669 GB/s for checksum, 1 views per node)\n",
      "GPT :      22.492571 s : Read 0.0889893 GB at 0.22607 GB/s (20.7164 GB/s for distribution, 0.228568 GB/s for reading + checksum, 33.6958 GB/s for checksum, 1 views per node)\n",
      "GPT :      22.971141 s : Read 0.0889893 GB at 0.186549 GB/s (18.1329 GB/s for distribution, 0.188492 GB/s for reading + checksum, 20.0402 GB/s for checksum, 1 views per node)\n",
      "GPT :      22.973528 s : Completed reading sampleConfigGPT in 3.38413 s\n"
     ]
    }
   ],
   "source": [
    "prop = g.load(\"sampleProp{}\".format(0))\n",
    "U = g.load(\"sampleConfigGPT\")"
   ]
  },
  {
   "cell_type": "markdown",
   "id": "26dc4ebb-86fe-4bfd-bb76-a87a7d1962c8",
   "metadata": {},
   "source": [
    "Recommended reading first: Basic_GPT_Tutorial"
   ]
  },
  {
   "cell_type": "markdown",
   "id": "c277e855-a9de-418f-b135-4ce4abe586f8",
   "metadata": {},
   "source": [
    "# Blocking"
   ]
  },
  {
   "cell_type": "markdown",
   "id": "8b78567d-c072-4ae3-bd87-2f3bafb79be0",
   "metadata": {},
   "source": [
    "We want to covariantly average our propagtor as\n",
    "\n",
    "(1) $S(\\vec{x},t)_{\\text{smeared}}=\\frac{\\alpha}{6}\\sum_{\\mu}U_{\\hat{\\mu}}(x)S(\\vec{x}+\\hat{\\mu})+\\frac{\\beta}{24}\\sum_{\\mu\\neq\\mu'}U_{\\hat{\\mu}}(x)U_{\\hat{\\mu}'}(x+\\hat{\\mu})S(\\vec{x}+\\hat{\\mu}+\\hat{\\mu}')$\n",
    "\n",
    "The operators we want are $\\verb|cov.forward|(\\mu)=U_{\\hat{\\mu}}(x)S(\\vec{x}+\\hat{\\mu})$, $\\verb|cov.backward|(\\mu)=U_{-\\hat{\\mu}}(x)S(\\vec{x}-\\hat{\\mu})$ ,where $\\verb|cov|$ is shorthand for $\\verb|g.covariant.shift(U, boundary_phases=[1,1,1,-1])|$.\n",
    "\n",
    "The summation of (1) can be implemented as a matrix operator for simplicity, which gpt will evaluate once applying to the propagator. Explicitly, we create an operator $O(\\alpha,\\beta)$ such that $S_{\\text{smeared}}=O(\\alpha,\\beta)S$"
   ]
  },
  {
   "cell_type": "code",
   "execution_count": 3,
   "id": "66699c32-d277-4477-8dff-a0b8e0aa6b23",
   "metadata": {},
   "outputs": [],
   "source": [
    "def blockingFirstSecond(Uin,alpha,beta):\n",
    "    cov = g.covariant.shift(Uin, boundary_phases=[1,1,1,-1])\n",
    "    # here we define a matrix operator that takes in an object we should dump our blocked propagator in (dst)\n",
    "    # and a propagator input (src)\n",
    "    # this is all done implicitly by gpt once applying the operator\n",
    "    def mat(dst, src):\n",
    "        assert dst != src\n",
    "        g.copy(dst, src)\n",
    "        dst[:] = 0.0\n",
    "        dimensions = [0,1,2]\n",
    "        dst+= g.eval(src)\n",
    "        # do loop over alpha dimensions\n",
    "        for mu in dimensions:\n",
    "            dst += g.eval((cov.forward[mu] * src + cov.backward[mu] * src)/6*alpha)\n",
    "        # do loop over beta dimensions\n",
    "        for mu in dimensions:\n",
    "            for nu in dimensions:\n",
    "                if(mu!=nu):\n",
    "                    #should be divide by 24, because taking 6 mu!=nu, and then 4 for each mu!=nu\n",
    "                    dst+=g.eval((cov.forward[nu]*cov.forward[mu]*src+cov.backward[nu]*cov.forward[mu]*src\\\n",
    "                               +cov.forward[nu]*cov.backward[mu]*src+cov.backward[nu]*cov.backward[mu]*src)/24.0*beta)\n",
    "    return g.matrix_operator(mat=mat)"
   ]
  },
  {
   "cell_type": "markdown",
   "id": "9f26b027-5aa2-4322-b803-ae21d409d624",
   "metadata": {},
   "source": [
    "Once we define a blocking operator, we create a blocking operator explicitly with couplings $\\alpha,\\beta=1$. We then apply this operator to our propagator. We have to wrap our expression with $\\verb|g()|$ for the function to actually evaluate."
   ]
  },
  {
   "cell_type": "code",
   "execution_count": 4,
   "id": "31d3a073-72a0-447b-afa4-22eb5ba31a8d",
   "metadata": {},
   "outputs": [],
   "source": [
    "blockOperator = blockingFirstSecond(U,1.0,1.0)\n",
    "blockedPropagator = g(blockOperator*prop)"
   ]
  },
  {
   "cell_type": "markdown",
   "id": "da0f369d-b91e-4fc1-897b-b9923597479f",
   "metadata": {},
   "source": [
    "# Decimation"
   ]
  },
  {
   "cell_type": "markdown",
   "id": "7ffc3689-f314-4fbb-a5f9-1da2ea759889",
   "metadata": {},
   "source": [
    "Now that we have a blocked propagator (more or less a smeared propagator), we want to decimate it. First, we define our coarse grid and coarsening factor ($s$ in the paper)."
   ]
  },
  {
   "cell_type": "code",
   "execution_count": 5,
   "id": "65725ea5-a253-4e6b-afc8-930deaa16a91",
   "metadata": {},
   "outputs": [],
   "source": [
    "gridCoarse1 = g.grid([12,12,12,48],precision=g.double)\n",
    "coarseFactor1 = 2"
   ]
  },
  {
   "cell_type": "markdown",
   "id": "d37b3862-6124-483a-96c6-d08fe64acad5",
   "metadata": {},
   "source": [
    "We then explicitly coarsen our lattice (called decimation in our paper). The most efficient way to do this is to use the $\\verb|g.coordinates|$ function, which gets an array of coordinates for the lattice. Then, we just multiply all our coordinates by the corresponding coarsening factor to keep every $n$th coordinate."
   ]
  },
  {
   "cell_type": "code",
   "execution_count": 6,
   "id": "73f530e8-3498-4911-80a7-c7c8cb6ca404",
   "metadata": {},
   "outputs": [],
   "source": [
    "def coarsenLattice(coarseGrid,coarseFactor,prop):\n",
    "    lattCoarse = g.lattice(coarseGrid,prop.otype)\n",
    "    coarseCoords = g.coordinates(lattCoarse)\n",
    "    coarseArray = np.array(coarseCoords)\n",
    "    fineArray = np.copy(coarseArray)\n",
    "    fineArray[:,0:3]*=coarseFactor\n",
    "    coarseLattice = g.copy(lattCoarse)\n",
    "    coarseLattice[coarseArray]=prop[fineArray]\n",
    "    return coarseLattice"
   ]
  },
  {
   "cell_type": "code",
   "execution_count": 7,
   "id": "a2253592-2294-4ccb-920b-55891799af30",
   "metadata": {},
   "outputs": [],
   "source": [
    "coarsenedProp = coarsenLattice(gridCoarse1,coarseFactor1,prop)"
   ]
  },
  {
   "cell_type": "markdown",
   "id": "bf8a1bab-93b2-4716-bb53-9b7cbe069c79",
   "metadata": {},
   "source": [
    "That's basically it! I made things a bit more abstract in the production code so things are more flexible, but this is the core function of the paper. Let's see what the sparsened correlation function looks like"
   ]
  },
  {
   "cell_type": "code",
   "execution_count": 8,
   "id": "fd3fa76e-2af3-4322-92dc-d3cf8acfcc6d",
   "metadata": {},
   "outputs": [],
   "source": [
    "def emMeson(corr):\n",
    "    corrMean = corr\n",
    "    E = []\n",
    "    for i in range(1,len(corrMean)-1):\n",
    "        E.append(np.arccosh((corrMean[i-1]+corrMean[i+1])/(2*corrMean[i])))\n",
    "    return np.array(E)\n",
    "corrPion1 = g.slice(g.trace(prop*g.adj(prop)),3)\n",
    "corrPion2 = g.slice(g.trace(coarsenedProp*g.adj(coarsenedProp)),3)\n",
    "effectiveMassPion1 = emMeson(corrPion1)\n",
    "effectiveMassPion2 = emMeson(corrPion2)"
   ]
  },
  {
   "cell_type": "code",
   "execution_count": 9,
   "id": "9121a031-3a94-4ee5-8ab9-5abbb377f29d",
   "metadata": {},
   "outputs": [
    {
     "name": "stderr",
     "output_type": "stream",
     "text": [
      "/state/partition1/llgrid/pkg/anaconda/anaconda3-2023a/lib/python3.9/site-packages/matplotlib/collections.py:193: ComplexWarning: Casting complex values to real discards the imaginary part\n",
      "  offsets = np.asanyarray(offsets, float)\n"
     ]
    },
    {
     "data": {
      "text/plain": [
       "(-0.5, 12.0)"
      ]
     },
     "execution_count": 9,
     "metadata": {},
     "output_type": "execute_result"
    },
    {
     "data": {
      "image/png": "[encoded data removed]",
      "text/plain": [
       "<Figure size 800x600 with 1 Axes>"
      ]
     },
     "metadata": {},
     "output_type": "display_data"
    }
   ],
   "source": [
    "plt.scatter(np.arange(0,46),effectiveMassPion1)\n",
    "plt.scatter(np.arange(0,46),effectiveMassPion2)\n",
    "plt.xlim([-0.5,12])\n"
   ]
  },
  {
   "cell_type": "markdown",
   "id": "0d55379b-040c-4d3d-8699-1bbe1ceb15d9",
   "metadata": {
    "tags": []
   },
   "source": [
    "Even for one gauge configuration, we see that the decay is faster for the unsparsened result for one step of blocking, in-line with the results of our paper."
   ]
  },
  {
   "cell_type": "markdown",
   "id": "d0d3accb-8412-453f-a53f-1d3bd5d1d3d1",
   "metadata": {},
   "source": [
    "# Multiple steps"
   ]
  },
  {
   "cell_type": "code",
   "execution_count": 12,
   "id": "1fb24eb1-85e7-49a9-9275-1c5bd08a8077",
   "metadata": {},
   "outputs": [
    {
     "name": "stdout",
     "output_type": "stream",
     "text": [
      "0\n",
      "1\n",
      "2\n",
      "3\n",
      "4\n",
      "5\n",
      "6\n",
      "7\n",
      "8\n",
      "9\n",
      "10\n",
      "11\n",
      "12\n",
      "13\n",
      "14\n",
      "15\n",
      "16\n",
      "17\n",
      "18\n",
      "19\n"
     ]
    }
   ],
   "source": [
    "blockOperator = blockingFirstSecond(U,1.0,1.0)\n",
    "blockedPropagator = prop\n",
    "#might take a bit\n",
    "for i in range(0,20):\n",
    "    print(i)\n",
    "    blockedPropagator = g(blockOperator*blockedPropagator)\n",
    "\n",
    "coarsenedProp = coarsenLattice(gridCoarse1,coarseFactor1,blockedPropagator)"
   ]
  },
  {
   "cell_type": "markdown",
   "id": "fcb0629f-5fa5-4738-b69d-094064b0ee46",
   "metadata": {},
   "source": [
    "Now we see that the correlator has a faster decay, but at the sacrifice of increased noise."
   ]
  },
  {
   "cell_type": "code",
   "execution_count": 13,
   "id": "dc3b20bc-7609-4e6a-9776-863891aa0f22",
   "metadata": {},
   "outputs": [
    {
     "data": {
      "text/plain": [
       "(-0.5, 12.0)"
      ]
     },
     "execution_count": 13,
     "metadata": {},
     "output_type": "execute_result"
    },
    {
     "data": {
      "image/png": "[encoded data removed]",
      "text/plain": [
       "<Figure size 800x600 with 1 Axes>"
      ]
     },
     "metadata": {},
     "output_type": "display_data"
    }
   ],
   "source": [
    "corrPion1 = g.slice(g.trace(prop*g.adj(prop)),3)\n",
    "corrPion2 = g.slice(g.trace(coarsenedProp*g.adj(coarsenedProp)),3)\n",
    "effectiveMassPion1 = emMeson(corrPion1)\n",
    "effectiveMassPion2 = emMeson(corrPion2)\n",
    "plt.scatter(np.arange(0,46),effectiveMassPion1)\n",
    "plt.scatter(np.arange(0,46),effectiveMassPion2)\n",
    "plt.xlim([-0.5,12])"
   ]
  }
 ],
 "metadata": {
  "kernelspec": {
   "display_name": "Python 3 (ipykernel)",
   "language": "python",
   "name": "python3"
  },
  "language_info": {
   "codemirror_mode": {
    "name": "ipython",
    "version": 3
   },
   "file_extension": ".py",
   "mimetype": "text/x-python",
   "name": "python",
   "nbconvert_exporter": "python",
   "pygments_lexer": "ipython3",
   "version": "3.9.15"
  }
 },
 "nbformat": 4,
 "nbformat_minor": 5
}
